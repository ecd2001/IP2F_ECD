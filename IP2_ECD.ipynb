{
 "cells": [
  {
   "cell_type": "markdown",
   "id": "afdeb556",
   "metadata": {},
   "source": [
    "# Individual Project 2\n",
    "## by Eli Dalton\n",
    "### version: 1.0\n",
    "### CS-160-Introduction to Data Science\n",
    "### Spring 2023"
   ]
  },
  {
   "cell_type": "markdown",
   "id": "a17b6ffd",
   "metadata": {},
   "source": [
    "## Working with NumPy"
   ]
  },
  {
   "cell_type": "code",
   "execution_count": 1,
   "id": "b8e4c7b1",
   "metadata": {},
   "outputs": [],
   "source": [
    "import numpy as np"
   ]
  },
  {
   "cell_type": "code",
   "execution_count": 3,
   "id": "23eb525d",
   "metadata": {},
   "outputs": [],
   "source": [
    "# Create a 2-by-2 NumPy array with elements 10,20,30,40 in it"
   ]
  },
  {
   "cell_type": "code",
   "execution_count": 4,
   "id": "ee7a0740",
   "metadata": {},
   "outputs": [
    {
     "name": "stdout",
     "output_type": "stream",
     "text": [
      "[[10 20]\n",
      " [30 40]]\n"
     ]
    }
   ],
   "source": [
    "x1 = np.array([[10,20], [30,40]])\n",
    "print(x1)"
   ]
  },
  {
   "cell_type": "code",
   "execution_count": 5,
   "id": "3fbf6c08",
   "metadata": {},
   "outputs": [],
   "source": [
    "# Then use broadcasting to perform each of the following operations:"
   ]
  },
  {
   "cell_type": "code",
   "execution_count": 6,
   "id": "9604d261",
   "metadata": {},
   "outputs": [
    {
     "data": {
      "text/plain": [
       "array([[ 100,  400],\n",
       "       [ 900, 1600]], dtype=int32)"
      ]
     },
     "execution_count": 6,
     "metadata": {},
     "output_type": "execute_result"
    }
   ],
   "source": [
    "# i. Square every element of the array.\n",
    "\n",
    "np.power(x1, 2)"
   ]
  },
  {
   "cell_type": "code",
   "execution_count": 7,
   "id": "971dfc23",
   "metadata": {},
   "outputs": [
    {
     "data": {
      "text/plain": [
       "array([[110, 120],\n",
       "       [130, 140]])"
      ]
     },
     "execution_count": 7,
     "metadata": {},
     "output_type": "execute_result"
    }
   ],
   "source": [
    "# ii. Add 100 to every element of the array.\n",
    "\n",
    "x1 + 100"
   ]
  },
  {
   "cell_type": "code",
   "execution_count": 8,
   "id": "94da0e6b",
   "metadata": {},
   "outputs": [
    {
     "data": {
      "text/plain": [
       "array([[ 50, 100],\n",
       "       [150, 200]])"
      ]
     },
     "execution_count": 8,
     "metadata": {},
     "output_type": "execute_result"
    }
   ],
   "source": [
    "# iii. Multiply every element of the array by 5.\n",
    "\n",
    "x1*5"
   ]
  },
  {
   "cell_type": "code",
   "execution_count": 9,
   "id": "d0a8a3d1",
   "metadata": {},
   "outputs": [
    {
     "data": {
      "text/plain": [
       "array([[3.16227766, 4.47213595],\n",
       "       [5.47722558, 6.32455532]])"
      ]
     },
     "execution_count": 9,
     "metadata": {},
     "output_type": "execute_result"
    }
   ],
   "source": [
    "# iv. Calculate the square root of each element in the array.\n",
    "\n",
    "np.power(x1, 0.5)"
   ]
  },
  {
   "cell_type": "code",
   "execution_count": 10,
   "id": "82370f4f",
   "metadata": {},
   "outputs": [],
   "source": [
    "# Create a 3-by-5 array containing integers from 3 to 27 in multiples of 3."
   ]
  },
  {
   "cell_type": "code",
   "execution_count": 38,
   "id": "f0e20669",
   "metadata": {},
   "outputs": [
    {
     "data": {
      "text/plain": [
       "array([[ 6, 12,  3, 18, 27],\n",
       "       [ 9, 15, 12, 24, 21],\n",
       "       [ 3, 18, 12, 27,  9]])"
      ]
     },
     "execution_count": 38,
     "metadata": {},
     "output_type": "execute_result"
    }
   ],
   "source": [
    "x2 = np.array([[6,12,3,18,27],[9,15,12,24,21],[3,18,12,27,9]])\n",
    "x2"
   ]
  },
  {
   "cell_type": "code",
   "execution_count": 12,
   "id": "7fe317c1",
   "metadata": {},
   "outputs": [],
   "source": [
    "# Create a second 3-by-3 array with 9 elements evenly spaced between 10 and 20."
   ]
  },
  {
   "cell_type": "code",
   "execution_count": 29,
   "id": "fc50c0c1",
   "metadata": {},
   "outputs": [
    {
     "name": "stdout",
     "output_type": "stream",
     "text": [
      "[[10.   11.25 12.5 ]\n",
      " [13.75 15.   16.25]\n",
      " [17.5  18.75 20.  ]]\n"
     ]
    }
   ],
   "source": [
    "x3 = np.linspace(10,20, 9)\n",
    "x3.resize(3,3)\n",
    "print(x3)"
   ]
  },
  {
   "cell_type": "code",
   "execution_count": 39,
   "id": "0f88da74",
   "metadata": {},
   "outputs": [],
   "source": [
    "# Multiply these arrays together and display the output."
   ]
  },
  {
   "cell_type": "code",
   "execution_count": 40,
   "id": "5479de73",
   "metadata": {},
   "outputs": [
    {
     "ename": "ValueError",
     "evalue": "operands could not be broadcast together with shapes (3,5) (3,3) ",
     "output_type": "error",
     "traceback": [
      "\u001b[1;31m---------------------------------------------------------------------------\u001b[0m",
      "\u001b[1;31mValueError\u001b[0m                                Traceback (most recent call last)",
      "\u001b[1;32m<ipython-input-40-b5c18719be15>\u001b[0m in \u001b[0;36m<module>\u001b[1;34m\u001b[0m\n\u001b[1;32m----> 1\u001b[1;33m \u001b[0mx2\u001b[0m \u001b[1;33m*\u001b[0m \u001b[0mx3\u001b[0m\u001b[1;33m\u001b[0m\u001b[1;33m\u001b[0m\u001b[0m\n\u001b[0m",
      "\u001b[1;31mValueError\u001b[0m: operands could not be broadcast together with shapes (3,5) (3,3) "
     ]
    }
   ],
   "source": [
    "x2 * x3"
   ]
  },
  {
   "cell_type": "code",
   "execution_count": 41,
   "id": "2986b7ec",
   "metadata": {},
   "outputs": [],
   "source": [
    "#Attached to the assignment are five .npy files that contain five values each. Read these files in and stack them into a\n",
    "#unified dataset. This would be a 5-by-5 NumPy array. Then clacluate the mean of each column of data. Let Python do all\n",
    "#of the heavy liftins!"
   ]
  },
  {
   "cell_type": "code",
   "execution_count": 42,
   "id": "10ad0221",
   "metadata": {},
   "outputs": [],
   "source": [
    "x4 = np.load(\"process1.npy\")\n",
    "x5 = np.load(\"process2.npy\")\n",
    "x6 = np.load(\"process3.npy\")\n",
    "x7 = np.load(\"process4.npy\")\n",
    "x8 = np.load(\"process5.npy\")"
   ]
  },
  {
   "cell_type": "code",
   "execution_count": 43,
   "id": "2c332a5a",
   "metadata": {},
   "outputs": [
    {
     "data": {
      "text/plain": [
       "array([[52, 12, 81,  0, 58],\n",
       "       [96,  4, 61, 16, 43],\n",
       "       [38, 96, 45, 17, 58],\n",
       "       [97, 21, 22, 25,  6],\n",
       "       [77,  6, 19,  2, 74]])"
      ]
     },
     "execution_count": 43,
     "metadata": {},
     "output_type": "execute_result"
    }
   ],
   "source": [
    "x9 = np.vstack([x4,x5,x6,x7,x8])\n",
    "x9"
   ]
  },
  {
   "cell_type": "code",
   "execution_count": 44,
   "id": "f528b7fa",
   "metadata": {},
   "outputs": [
    {
     "data": {
      "text/plain": [
       "array([72. , 27.8, 45.6, 12. , 47.8])"
      ]
     },
     "execution_count": 44,
     "metadata": {},
     "output_type": "execute_result"
    }
   ],
   "source": [
    "np.mean(x9, axis=0)"
   ]
  },
  {
   "cell_type": "code",
   "execution_count": null,
   "id": "f42b0c0a",
   "metadata": {},
   "outputs": [],
   "source": []
  }
 ],
 "metadata": {
  "kernelspec": {
   "display_name": "Python 3",
   "language": "python",
   "name": "python3"
  },
  "language_info": {
   "codemirror_mode": {
    "name": "ipython",
    "version": 3
   },
   "file_extension": ".py",
   "mimetype": "text/x-python",
   "name": "python",
   "nbconvert_exporter": "python",
   "pygments_lexer": "ipython3",
   "version": "3.8.8"
  }
 },
 "nbformat": 4,
 "nbformat_minor": 5
}
